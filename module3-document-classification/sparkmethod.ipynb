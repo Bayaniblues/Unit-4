{
 "cells": [
  {
   "cell_type": "code",
   "execution_count": 3,
   "metadata": {},
   "outputs": [
    {
     "ename": "ModuleNotFoundError",
     "evalue": "No module named 'sparknlp.annotator'",
     "output_type": "error",
     "traceback": [
      "\u001b[1;31m---------------------------------------------------------------------------\u001b[0m",
      "\u001b[1;31mModuleNotFoundError\u001b[0m                       Traceback (most recent call last)",
      "\u001b[1;32m<ipython-input-3-eeb8142d5b4c>\u001b[0m in \u001b[0;36m<module>\u001b[1;34m\u001b[0m\n\u001b[0;32m      1\u001b[0m \u001b[1;32mimport\u001b[0m \u001b[0msparknlp\u001b[0m\u001b[1;33m\u001b[0m\u001b[1;33m\u001b[0m\u001b[0m\n\u001b[1;32m----> 2\u001b[1;33m \u001b[1;32mfrom\u001b[0m \u001b[0msparknlp\u001b[0m\u001b[1;33m.\u001b[0m\u001b[0mannotator\u001b[0m \u001b[1;32mimport\u001b[0m \u001b[1;33m*\u001b[0m\u001b[1;33m\u001b[0m\u001b[1;33m\u001b[0m\u001b[0m\n\u001b[0m\u001b[0;32m      3\u001b[0m \u001b[1;32mfrom\u001b[0m \u001b[0msparknlp\u001b[0m\u001b[1;33m.\u001b[0m\u001b[0mbase\u001b[0m \u001b[1;32mimport\u001b[0m \u001b[1;33m*\u001b[0m\u001b[1;33m\u001b[0m\u001b[1;33m\u001b[0m\u001b[0m\n\u001b[0;32m      4\u001b[0m \u001b[1;32mfrom\u001b[0m \u001b[0mpyspark\u001b[0m\u001b[1;33m.\u001b[0m\u001b[0mml\u001b[0m \u001b[1;32mimport\u001b[0m \u001b[0mPipeline\u001b[0m\u001b[1;33m\u001b[0m\u001b[1;33m\u001b[0m\u001b[0m\n",
      "\u001b[1;31mModuleNotFoundError\u001b[0m: No module named 'sparknlp.annotator'"
     ]
    }
   ],
   "source": [
    "import sparknlp\n",
    "from sparknlp.annotator import *\n",
    "from sparknlp.base import *\n",
    "from pyspark.ml import Pipeline"
   ]
  },
  {
   "cell_type": "code",
   "execution_count": 2,
   "metadata": {},
   "outputs": [
    {
     "name": "stdout",
     "output_type": "stream",
     "text": [
      "Collecting pyspark\n",
      "  Downloading pyspark-3.0.1.tar.gz (204.2 MB)\n",
      "Collecting py4j==0.10.9\n",
      "  Downloading py4j-0.10.9-py2.py3-none-any.whl (198 kB)\n",
      "Building wheels for collected packages: pyspark\n",
      "  Building wheel for pyspark (setup.py): started\n",
      "  Building wheel for pyspark (setup.py): finished with status 'done'\n",
      "  Created wheel for pyspark: filename=pyspark-3.0.1-py2.py3-none-any.whl size=204612247 sha256=9aabc42f29aee38f5e0aa6729df8ae3d961f4e8599e69e4e6cdaa80c766b2ce9\n",
      "  Stored in directory: c:\\users\\corte\\appdata\\local\\pip\\cache\\wheels\\ea\\21\\84\\970b03913d0d6a96ef51c34c878add0de9e4ecbb7c764ea21f\n",
      "Successfully built pyspark\n",
      "Installing collected packages: py4j, pyspark\n",
      "Successfully installed py4j-0.10.9 pyspark-3.0.1\n"
     ]
    }
   ],
   "source": [
    "!pip install pyspark"
   ]
  },
  {
   "cell_type": "code",
   "execution_count": null,
   "metadata": {},
   "outputs": [],
   "source": [
    "!pip uninstall sparknlp"
   ]
  },
  {
   "cell_type": "code",
   "execution_count": 5,
   "metadata": {},
   "outputs": [
    {
     "name": "stdout",
     "output_type": "stream",
     "text": [
      "Package             Version\n",
      "------------------- -------------------\n",
      "argon2-cffi         20.1.0\n",
      "async-generator     1.10\n",
      "attrs               20.2.0\n",
      "Automat             20.2.0\n",
      "backcall            0.2.0\n",
      "beautifulsoup4      4.9.3\n",
      "bleach              3.2.1\n",
      "blis                0.4.1\n",
      "brotlipy            0.7.0\n",
      "catalogue           1.0.0\n",
      "certifi             2020.6.20\n",
      "cffi                1.14.3\n",
      "chardet             3.0.4\n",
      "click               7.1.2\n",
      "colorama            0.4.4\n",
      "constantly          15.1.0\n",
      "cryptography        3.1.1\n",
      "cssselect           1.1.0\n",
      "cycler              0.10.0\n",
      "cymem               2.0.3\n",
      "decorator           4.4.2\n",
      "defusedxml          0.6.0\n",
      "eli5                0.10.1\n",
      "en-core-web-lg      2.3.1\n",
      "en-core-web-md      2.3.1\n",
      "entrypoints         0.3\n",
      "graphviz            0.14.2\n",
      "hyperlink           20.0.1\n",
      "idna                2.10\n",
      "importlib-metadata  2.0.0\n",
      "incremental         17.5.0\n",
      "ipykernel           5.3.4\n",
      "ipython             7.18.1\n",
      "ipython-genutils    0.2.0\n",
      "ipywidgets          7.5.1\n",
      "itemadapter         0.1.1\n",
      "itemloaders         1.0.3\n",
      "jedi                0.17.2\n",
      "Jinja2              2.11.2\n",
      "jmespath            0.10.0\n",
      "joblib              0.17.0\n",
      "jsonschema          3.0.2\n",
      "jupyter             1.0.0\n",
      "jupyter-client      6.1.7\n",
      "jupyter-console     6.2.0\n",
      "jupyter-core        4.6.3\n",
      "jupyterlab-pygments 0.1.2\n",
      "kiwisolver          1.2.0\n",
      "lxml                4.6.1\n",
      "Mako                1.1.3\n",
      "Markdown            3.3.3\n",
      "MarkupSafe          1.1.1\n",
      "matplotlib          3.3.2\n",
      "mistune             0.8.4\n",
      "mkl-fft             1.2.0\n",
      "mkl-random          1.1.1\n",
      "mkl-service         2.3.0\n",
      "murmurhash          1.0.2\n",
      "nbclient            0.5.1\n",
      "nbconvert           6.0.7\n",
      "nbformat            5.0.8\n",
      "nest-asyncio        1.4.2\n",
      "nltk                3.5\n",
      "notebook            6.1.4\n",
      "numpy               1.19.2\n",
      "olefile             0.46\n",
      "packaging           20.4\n",
      "pandas              1.1.3\n",
      "pandocfilters       1.4.3\n",
      "parsel              1.6.0\n",
      "parso               0.7.1\n",
      "pdoc3               0.9.1\n",
      "pickleshare         0.7.5\n",
      "Pillow              8.0.1\n",
      "pip                 20.2.4\n",
      "plac                0.9.6\n",
      "preshed             3.0.2\n",
      "prometheus-client   0.8.0\n",
      "prompt-toolkit      3.0.8\n",
      "Protego             0.1.16\n",
      "py4j                0.10.9\n",
      "pyasn1              0.4.8\n",
      "pyasn1-modules      0.2.8\n",
      "pycparser           2.20\n",
      "PyDispatcher        2.0.5\n",
      "Pygments            2.7.2\n",
      "PyHamcrest          2.0.2\n",
      "pyOpenSSL           19.1.0\n",
      "pyparsing           2.4.7\n",
      "pyrsistent          0.17.3\n",
      "PySocks             1.7.1\n",
      "pyspark             3.0.1\n",
      "python-dateutil     2.8.1\n",
      "pytz                2020.1\n",
      "pywin32             228\n",
      "pywinpty            0.5.7\n",
      "pyzmq               19.0.2\n",
      "qtconsole           4.7.7\n",
      "QtPy                1.9.0\n",
      "queuelib            1.5.0\n",
      "regex               2020.10.15\n",
      "requests            2.24.0\n",
      "scikit-learn        0.23.2\n",
      "scipy               1.5.0\n",
      "Scrapy              2.4.0\n",
      "seaborn             0.11.0\n",
      "Send2Trash          1.5.0\n",
      "service-identity    18.1.0\n",
      "setuptools          50.3.0.post20201006\n",
      "sip                 4.19.13\n",
      "six                 1.15.0\n",
      "sklearn             0.0\n",
      "soupsieve           2.0.1\n",
      "spacy               2.3.2\n",
      "sparknlp            0.0.1\n",
      "squarify            0.4.3\n",
      "srsly               1.0.2\n",
      "tabulate            0.8.7\n",
      "terminado           0.9.1\n",
      "testpath            0.4.4\n",
      "thinc               7.4.1\n",
      "threadpoolctl       2.1.0\n",
      "tornado             6.0.4\n",
      "tqdm                4.50.2\n",
      "traitlets           5.0.5\n",
      "Twisted             20.3.0\n",
      "urllib3             1.25.11\n",
      "w3lib               1.22.0\n",
      "wasabi              0.8.0\n",
      "wcwidth             0.2.5\n",
      "webencodings        0.5.1\n",
      "wheel               0.35.1\n",
      "widgetsnbextension  3.5.1\n",
      "win-inet-pton       1.1.0\n",
      "wincertstore        0.2\n",
      "zipp                3.3.1\n",
      "zope.interface      5.1.2\n"
     ]
    }
   ],
   "source": [
    "!pip list"
   ]
  },
  {
   "cell_type": "code",
   "execution_count": null,
   "metadata": {},
   "outputs": [],
   "source": []
  }
 ],
 "metadata": {
  "kernelspec": {
   "display_name": "Python 3",
   "language": "python",
   "name": "python3"
  },
  "language_info": {
   "codemirror_mode": {
    "name": "ipython",
    "version": 3
   },
   "file_extension": ".py",
   "mimetype": "text/x-python",
   "name": "python",
   "nbconvert_exporter": "python",
   "pygments_lexer": "ipython3",
   "version": "3.8.5"
  }
 },
 "nbformat": 4,
 "nbformat_minor": 4
}
